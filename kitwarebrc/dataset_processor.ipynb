{
 "cells": [
  {
   "cell_type": "markdown",
   "metadata": {},
   "source": [
    "# Dataset Processor Notebook\n",
    "\n",
    "This notebook processes a dataset by comparing clothing descriptors."
   ]
  },
  {
   "cell_type": "code",
   "execution_count": 1,
   "metadata": {
    "tags": []
   },
   "outputs": [
    {
     "name": "stdout",
     "output_type": "stream",
     "text": [
      "/apps/jupyter/6.5.4/bin/python\n"
     ]
    }
   ],
   "source": [
    "!which python"
   ]
  },
  {
   "cell_type": "code",
   "execution_count": 2,
   "metadata": {
    "tags": []
   },
   "outputs": [],
   "source": [
    "# ...existing imports...\n",
    "import os\n",
    "import shutil\n",
    "import cv2\n",
    "import numpy as np"
   ]
  },
  {
   "cell_type": "code",
   "execution_count": 8,
   "metadata": {
    "tags": []
   },
   "outputs": [],
   "source": [
    "# Threshold for descriptor similarity (tune as needed)\n",
    "DESCRIPTOR_DISTANCE_THRESHOLD = 0.3\n",
    "\n",
    "def detect_person(image):\n",
    "    \"\"\"\n",
    "    Use the HOG+SVM detector to find and return the bounding box of the largest detected person.\n",
    "    Returns the bounding box [x, y, w, h] or None if no person is detected.\n",
    "    \"\"\"\n",
    "    hog = cv2.HOGDescriptor()\n",
    "    hog.setSVMDetector(cv2.HOGDescriptor_getDefaultPeopleDetector())\n",
    "    (rects, _) = hog.detectMultiScale(image, winStride=(4, 4), padding=(8, 8), scale=1.05)\n",
    "    if len(rects) == 0:\n",
    "        return None\n",
    "\n",
    "    # Choose the largest detection (by area)\n",
    "    rect = max(rects, key=lambda r: r[2] * r[3])\n",
    "    return rect\n"
   ]
  },
  {
   "cell_type": "code",
   "execution_count": 17,
   "metadata": {
    "tags": []
   },
   "outputs": [],
   "source": [
    "def compute_descriptor(image):\n",
    "    \"\"\"\n",
    "    Compute a descriptor for the entire image by combining:\n",
    "      - HOG features computed on a resized version of the image.\n",
    "      - A normalized HSV color histogram computed on the full image.\n",
    "      \n",
    "    This descriptor is used to compare if two frames have a similar overall appearance.\n",
    "    \"\"\"\n",
    "    # Resize image to a fixed size for the HOG feature extraction.\n",
    "    resized_image = cv2.resize(image, (128, 256))\n",
    "    \n",
    "    # Compute HOG features.\n",
    "    hog = cv2.HOGDescriptor()\n",
    "    hog_features = hog.compute(resized_image)\n",
    "    hog_features = hog_features.flatten()\n",
    "\n",
    "    # Compute a normalized color histogram in HSV space from the full image.\n",
    "    hsv = cv2.cvtColor(image, cv2.COLOR_BGR2HSV)\n",
    "    hist = cv2.calcHist([hsv], [0, 1, 2], None, [8, 8, 8], [0, 180, 0, 256, 0, 256])\n",
    "    cv2.normalize(hist, hist)\n",
    "    color_hist = hist.flatten()\n",
    "\n",
    "    # Concatenate the HOG features and color histogram\n",
    "    descriptor = np.concatenate([hog_features, color_hist])\n",
    "    return descriptor"
   ]
  },
  {
   "cell_type": "code",
   "execution_count": 18,
   "metadata": {
    "tags": []
   },
   "outputs": [],
   "source": [
    "def get_frame_descriptor(frame_path):\n",
    "    \"\"\"\n",
    "    Reads an image from the given frame path and returns its descriptor.\n",
    "    \"\"\"\n",
    "    image = cv2.imread(frame_path)\n",
    "    if image is None:\n",
    "        print(f\"Error reading {frame_path}\")\n",
    "        return None\n",
    "    descriptor = compute_descriptor(image)\n",
    "    if descriptor is None:\n",
    "        print(f\"Could not compute descriptor for {frame_path}.\")\n",
    "    return descriptor"
   ]
  },
  {
   "cell_type": "code",
   "execution_count": 19,
   "metadata": {
    "tags": []
   },
   "outputs": [],
   "source": [
    "def group_frames(frame_paths):\n",
    "    \"\"\"\n",
    "    Compares frame descriptors and groups frames that appear to be similar.\n",
    "    Returns a dictionary:\n",
    "       key: group id, \n",
    "       value: list of tuples (frame_path, descriptor)\n",
    "    \"\"\"\n",
    "    groups = {}  # group id -> list of (frame_path, descriptor)\n",
    "    next_group = 1\n",
    "\n",
    "    for path in frame_paths:\n",
    "        descriptor = get_frame_descriptor(path)\n",
    "        if descriptor is None:\n",
    "            continue\n",
    "\n",
    "        assigned = False\n",
    "        for group_id, members in groups.items():\n",
    "            rep_descriptor = members[0][1]\n",
    "            distance = np.linalg.norm(descriptor - rep_descriptor)\n",
    "            if distance < DESCRIPTOR_DISTANCE_THRESHOLD:\n",
    "                groups[group_id].append((path, descriptor))\n",
    "                assigned = True\n",
    "                break\n",
    "\n",
    "        if not assigned:\n",
    "            groups[next_group] = [(path, descriptor)]\n",
    "            next_group += 1\n",
    "\n",
    "    return groups"
   ]
  },
  {
   "cell_type": "code",
   "execution_count": 20,
   "metadata": {
    "tags": []
   },
   "outputs": [],
   "source": [
    "def show_comparison(img_path1, img_path2):\n",
    "    \"\"\"\n",
    "    Displays two images side by side for visual comparison.\n",
    "    \"\"\"\n",
    "    img1 = cv2.imread(img_path1)\n",
    "    img2 = cv2.imread(img_path2)\n",
    "    if img1 is None or img2 is None:\n",
    "        print(\"Error reading images for comparison.\")\n",
    "        return\n",
    "    h = 400\n",
    "    img1 = cv2.resize(img1, (int(img1.shape[1] * h / img1.shape[0]), h))\n",
    "    img2 = cv2.resize(img2, (int(img2.shape[1] * h / img2.shape[0]), h))\n",
    "    combined = np.hstack((img1, img2))\n",
    "    cv2.imshow(\"Comparison (Left: Group 1, Right: Group 2)\", combined)\n",
    "    cv2.waitKey(0)\n",
    "    cv2.destroyAllWindows()"
   ]
  },
  {
   "cell_type": "code",
   "execution_count": 21,
   "metadata": {
    "tags": []
   },
   "outputs": [],
   "source": [
    "def process_camera(camera_path):\n",
    "    \"\"\"\n",
    "    Processes a camera folder by:\n",
    "      - Checking for existence of a 'frames' subdirectory.\n",
    "      - Grouping frames based on appearance descriptors computed on the whole image.\n",
    "      - If multiple groups are detected, letting the user choose which group to keep.\n",
    "      - Deleting frames (or the folder if no PNG files exist) accordingly.\n",
    "    \"\"\"\n",
    "    frames_dir = os.path.join(camera_path, \"frames\")\n",
    "    if not os.path.exists(frames_dir):\n",
    "        print(f\"No frames directory in {camera_path}. Deleting the camera folder.\")\n",
    "        # shutil.rmtree(camera_path)\n",
    "        return\n",
    "\n",
    "    frame_files = [os.path.join(frames_dir, f) for f in os.listdir(frames_dir) if f.endswith(\".png\")]\n",
    "    if not frame_files:\n",
    "        print(f\"No PNG frames in {frames_dir}. Deleting the camera folder {camera_path}.\")\n",
    "        # shutil.rmtree(camera_path)\n",
    "        return\n",
    "\n",
    "    groups = group_frames(frame_files)\n",
    "\n",
    "    if len(groups) <= 1:\n",
    "        print(f\"All frames in {frames_dir} appear to have a similar overall appearance.\")\n",
    "        return\n",
    "\n",
    "    print(f\"Detected {len(groups)} groups in {frames_dir}.\")\n",
    "\n",
    "    # If there are exactly two groups, display them side by side.\n",
    "    if len(groups) == 2:\n",
    "        group_ids = sorted(groups.keys())\n",
    "        rep1 = groups[group_ids[0]][0][0]\n",
    "        rep2 = groups[group_ids[1]][0][0]\n",
    "        show_comparison(rep1, rep2)\n",
    "        choice = input(\"Which group should be kept? Type 1 for left image or 2 for right image: \").strip()\n",
    "        try:\n",
    "            keep_group = group_ids[int(choice) - 1]\n",
    "        except (ValueError, IndexError):\n",
    "            print(\"Invalid choice. Skipping deletion for this folder.\")\n",
    "            return\n",
    "\n",
    "        for gid, items in groups.items():\n",
    "            if gid != keep_group:\n",
    "                for (fp, _) in items:\n",
    "                    print(f\"Deleting {fp}\")\n",
    "                    # os.remove(fp)\n",
    "    else:\n",
    "        # For more than 2 groups, list the representative images and ask the user which group to keep.\n",
    "        print(\"More than two groups detected. Please choose which group to keep:\")\n",
    "        rep_images = {}\n",
    "        for gid, items in groups.items():\n",
    "            rep_images[gid] = items[0][0]\n",
    "            print(f\" Group {gid}: {rep_images[gid]}\")\n",
    "        choice = input(\"Enter the group number you want to keep: \").strip()\n",
    "        try:\n",
    "            keep_group = int(choice)\n",
    "        except ValueError:\n",
    "            print(\"Invalid choice. Skipping deletion.\")\n",
    "            return\n",
    "\n",
    "        if keep_group not in groups:\n",
    "            print(\"Chosen group does not exist. Skipping deletion.\")\n",
    "            return\n",
    "\n",
    "        for gid, items in groups.items():\n",
    "            if gid != keep_group:\n",
    "                for (fp, _) in items:\n",
    "                    print(f\"Deleting {fp}\")\n",
    "                    # os.remove(fp)"
   ]
  },
  {
   "cell_type": "code",
   "execution_count": 22,
   "metadata": {},
   "outputs": [],
   "source": [
    "def main(root_dir):\n",
    "    \"\"\"\n",
    "    Main function to iterate over subject subdirectories and process each camera folder.\n",
    "    \"\"\"\n",
    "    if not os.path.isdir(root_dir):\n",
    "        print(f\"{root_dir} is not a directory\")\n",
    "        return\n",
    "\n",
    "    # Iterate over subject subdirectories\n",
    "    for subject in os.listdir(root_dir):\n",
    "        subject_path = os.path.join(root_dir, subject)\n",
    "        if not os.path.isdir(subject_path):\n",
    "            continue\n",
    "\n",
    "        # Iterate over camera directories in each subject\n",
    "        for camera in os.listdir(subject_path):\n",
    "            camera_path = os.path.join(subject_path, camera)\n",
    "            if not os.path.isdir(camera_path):\n",
    "                continue\n",
    "\n",
    "            # For example, if you want to remove folders named \"flir\".\n",
    "            if camera.lower() == \"flir\":\n",
    "                print(f\"Removing camera folder {camera_path}\")\n",
    "                # shutil.rmtree(camera_path)\n",
    "                continue\n",
    "\n",
    "            process_camera(camera_path)"
   ]
  },
  {
   "cell_type": "code",
   "execution_count": 23,
   "metadata": {},
   "outputs": [
    {
     "name": "stdin",
     "output_type": "stream",
     "text": [
      "Enter the root dataset directory:  /home/caio.dasilva/Vibe3D/kitwarebrc/output\n"
     ]
    },
    {
     "ename": "KeyboardInterrupt",
     "evalue": "",
     "output_type": "error",
     "traceback": [
      "\u001b[0;31m---------------------------------------------------------------------------\u001b[0m",
      "\u001b[0;31mKeyboardInterrupt\u001b[0m                         Traceback (most recent call last)",
      "Cell \u001b[0;32mIn[23], line 3\u001b[0m\n\u001b[1;32m      1\u001b[0m \u001b[38;5;66;03m# Execute the main function\u001b[39;00m\n\u001b[1;32m      2\u001b[0m root_dir \u001b[38;5;241m=\u001b[39m \u001b[38;5;28minput\u001b[39m(\u001b[38;5;124m'\u001b[39m\u001b[38;5;124mEnter the root dataset directory: \u001b[39m\u001b[38;5;124m'\u001b[39m)\u001b[38;5;241m.\u001b[39mstrip()\n\u001b[0;32m----> 3\u001b[0m \u001b[43mmain\u001b[49m\u001b[43m(\u001b[49m\u001b[43mroot_dir\u001b[49m\u001b[43m)\u001b[49m\n",
      "Cell \u001b[0;32mIn[22], line 27\u001b[0m, in \u001b[0;36mmain\u001b[0;34m(root_dir)\u001b[0m\n\u001b[1;32m     24\u001b[0m     \u001b[38;5;66;03m# shutil.rmtree(camera_path)\u001b[39;00m\n\u001b[1;32m     25\u001b[0m     \u001b[38;5;28;01mcontinue\u001b[39;00m\n\u001b[0;32m---> 27\u001b[0m \u001b[43mprocess_camera\u001b[49m\u001b[43m(\u001b[49m\u001b[43mcamera_path\u001b[49m\u001b[43m)\u001b[49m\n",
      "Cell \u001b[0;32mIn[21], line 21\u001b[0m, in \u001b[0;36mprocess_camera\u001b[0;34m(camera_path)\u001b[0m\n\u001b[1;32m     18\u001b[0m     \u001b[38;5;66;03m# shutil.rmtree(camera_path)\u001b[39;00m\n\u001b[1;32m     19\u001b[0m     \u001b[38;5;28;01mreturn\u001b[39;00m\n\u001b[0;32m---> 21\u001b[0m groups \u001b[38;5;241m=\u001b[39m \u001b[43mgroup_frames\u001b[49m\u001b[43m(\u001b[49m\u001b[43mframe_files\u001b[49m\u001b[43m)\u001b[49m\n\u001b[1;32m     23\u001b[0m \u001b[38;5;28;01mif\u001b[39;00m \u001b[38;5;28mlen\u001b[39m(groups) \u001b[38;5;241m<\u001b[39m\u001b[38;5;241m=\u001b[39m \u001b[38;5;241m1\u001b[39m:\n\u001b[1;32m     24\u001b[0m     \u001b[38;5;28mprint\u001b[39m(\u001b[38;5;124mf\u001b[39m\u001b[38;5;124m\"\u001b[39m\u001b[38;5;124mAll frames in \u001b[39m\u001b[38;5;132;01m{\u001b[39;00mframes_dir\u001b[38;5;132;01m}\u001b[39;00m\u001b[38;5;124m appear to have a similar overall appearance.\u001b[39m\u001b[38;5;124m\"\u001b[39m)\n",
      "Cell \u001b[0;32mIn[19], line 19\u001b[0m, in \u001b[0;36mgroup_frames\u001b[0;34m(frame_paths)\u001b[0m\n\u001b[1;32m     17\u001b[0m \u001b[38;5;28;01mfor\u001b[39;00m group_id, members \u001b[38;5;129;01min\u001b[39;00m groups\u001b[38;5;241m.\u001b[39mitems():\n\u001b[1;32m     18\u001b[0m     rep_descriptor \u001b[38;5;241m=\u001b[39m members[\u001b[38;5;241m0\u001b[39m][\u001b[38;5;241m1\u001b[39m]\n\u001b[0;32m---> 19\u001b[0m     distance \u001b[38;5;241m=\u001b[39m \u001b[43mnp\u001b[49m\u001b[38;5;241;43m.\u001b[39;49m\u001b[43mlinalg\u001b[49m\u001b[38;5;241;43m.\u001b[39;49m\u001b[43mnorm\u001b[49m\u001b[43m(\u001b[49m\u001b[43mdescriptor\u001b[49m\u001b[43m \u001b[49m\u001b[38;5;241;43m-\u001b[39;49m\u001b[43m \u001b[49m\u001b[43mrep_descriptor\u001b[49m\u001b[43m)\u001b[49m\n\u001b[1;32m     20\u001b[0m     \u001b[38;5;28;01mif\u001b[39;00m distance \u001b[38;5;241m<\u001b[39m DESCRIPTOR_DISTANCE_THRESHOLD:\n\u001b[1;32m     21\u001b[0m         groups[group_id]\u001b[38;5;241m.\u001b[39mappend((path, descriptor))\n",
      "File \u001b[0;32m/blue/sarkar.sudeep/caio.dasilva/conda/envs/kitware/lib/python3.10/site-packages/numpy/linalg/linalg.py:2379\u001b[0m, in \u001b[0;36m_norm_dispatcher\u001b[0;34m(x, ord, axis, keepdims)\u001b[0m\n\u001b[1;32m   2375\u001b[0m     result \u001b[38;5;241m=\u001b[39m op(svd(y, compute_uv\u001b[38;5;241m=\u001b[39m\u001b[38;5;28;01mFalse\u001b[39;00m), axis\u001b[38;5;241m=\u001b[39m\u001b[38;5;241m-\u001b[39m\u001b[38;5;241m1\u001b[39m)\n\u001b[1;32m   2376\u001b[0m     \u001b[38;5;28;01mreturn\u001b[39;00m result\n\u001b[0;32m-> 2379\u001b[0m \u001b[38;5;28;01mdef\u001b[39;00m\u001b[38;5;250m \u001b[39m\u001b[38;5;21m_norm_dispatcher\u001b[39m(x, \u001b[38;5;28mord\u001b[39m\u001b[38;5;241m=\u001b[39m\u001b[38;5;28;01mNone\u001b[39;00m, axis\u001b[38;5;241m=\u001b[39m\u001b[38;5;28;01mNone\u001b[39;00m, keepdims\u001b[38;5;241m=\u001b[39m\u001b[38;5;28;01mNone\u001b[39;00m):\n\u001b[1;32m   2380\u001b[0m     \u001b[38;5;28;01mreturn\u001b[39;00m (x,)\n\u001b[1;32m   2383\u001b[0m \u001b[38;5;129m@array_function_dispatch\u001b[39m(_norm_dispatcher)\n\u001b[1;32m   2384\u001b[0m \u001b[38;5;28;01mdef\u001b[39;00m\u001b[38;5;250m \u001b[39m\u001b[38;5;21mnorm\u001b[39m(x, \u001b[38;5;28mord\u001b[39m\u001b[38;5;241m=\u001b[39m\u001b[38;5;28;01mNone\u001b[39;00m, axis\u001b[38;5;241m=\u001b[39m\u001b[38;5;28;01mNone\u001b[39;00m, keepdims\u001b[38;5;241m=\u001b[39m\u001b[38;5;28;01mFalse\u001b[39;00m):\n",
      "\u001b[0;31mKeyboardInterrupt\u001b[0m: "
     ]
    }
   ],
   "source": [
    "# Execute the main function\n",
    "root_dir = input('Enter the root dataset directory: ').strip()\n",
    "main(root_dir)"
   ]
  },
  {
   "cell_type": "code",
   "execution_count": null,
   "metadata": {},
   "outputs": [],
   "source": []
  }
 ],
 "metadata": {
  "kernelspec": {
   "display_name": "1 Kitware",
   "language": "python",
   "name": "kitware"
  },
  "language_info": {
   "codemirror_mode": {
    "name": "ipython",
    "version": 3
   },
   "file_extension": ".py",
   "mimetype": "text/x-python",
   "name": "python",
   "nbconvert_exporter": "python",
   "pygments_lexer": "ipython3",
   "version": "3.10.16"
  }
 },
 "nbformat": 4,
 "nbformat_minor": 4
}

{
 "cells": [
  {
   "cell_type": "code",
   "execution_count": 2,
   "id": "2ac0f03c-bbea-4966-a907-3763f74e2e50",
   "metadata": {
    "tags": []
   },
   "outputs": [],
   "source": [
    "# Import necessary libraries\n",
    "import cv2\n",
    "import numpy as np\n",
    "from sklearn.cluster import KMeans\n",
    "import os\n",
    "import matplotlib.pyplot as plt\n"
   ]
  },
  {
   "cell_type": "code",
   "execution_count": 3,
   "id": "88665e36-d1c6-4243-bf30-0dbc811fdf18",
   "metadata": {
    "tags": []
   },
   "outputs": [],
   "source": [
    "# Function to extract features from an image\n",
    "def extract_features(image_path):\n",
    "    image = cv2.imread(image_path)\n",
    "    gray = cv2.cvtColor(image, cv2.COLOR_BGR2GRAY)\n",
    "    sift = cv2.SIFT_create()\n",
    "    keypoints, descriptors = sift.detectAndCompute(gray, None)\n",
    "    return descriptors\n"
   ]
  }
 ],
 "metadata": {
  "kernelspec": {
   "display_name": "1 Kitware",
   "language": "python",
   "name": "kitware"
  },
  "language_info": {
   "codemirror_mode": {
    "name": "ipython",
    "version": 3
   },
   "file_extension": ".py",
   "mimetype": "text/x-python",
   "name": "python",
   "nbconvert_exporter": "python",
   "pygments_lexer": "ipython3",
   "version": "3.10.16"
  }
 },
 "nbformat": 4,
 "nbformat_minor": 5
}

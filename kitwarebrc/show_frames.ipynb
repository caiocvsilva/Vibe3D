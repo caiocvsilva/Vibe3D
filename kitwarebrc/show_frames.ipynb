{
 "cells": [
  {
   "cell_type": "code",
   "execution_count": 32,
   "id": "8e55037d-35a9-42e3-876c-b23320c8205f",
   "metadata": {
    "tags": []
   },
   "outputs": [],
   "source": [
    "#!/usr/bin/env python3\n",
    "import os\n",
    "import cv2\n",
    "import numpy as np\n",
    "import matplotlib.pyplot as plt\n",
    "import shutil\n",
    "from matplotlib.backends.backend_pdf import PdfPages\n",
    "pdf_pages = None"
   ]
  },
  {
   "cell_type": "code",
   "execution_count": 22,
   "id": "f41964b2-d880-491f-bff0-1ffff324190d",
   "metadata": {
    "tags": []
   },
   "outputs": [],
   "source": [
    "\n",
    "\n",
    "def get_sorted_frames(frames_dir):\n",
    "    # Get full paths for PNG files, sort alphabetically (or numerically if framed well-named)\n",
    "    frame_files = sorted([os.path.join(frames_dir, f)\n",
    "                          for f in os.listdir(frames_dir)\n",
    "                          if f.lower().endswith(\".png\")])\n",
    "    return frame_files"
   ]
  },
  {
   "cell_type": "code",
   "execution_count": 23,
   "id": "3546c4a1-ffa9-4e05-abbf-74eeeefe2ff9",
   "metadata": {
    "tags": []
   },
   "outputs": [],
   "source": [
    "\n",
    "def sample_frames(frame_files, sample_count=5):\n",
    "    num_frames = len(frame_files)\n",
    "    if num_frames == 0:\n",
    "        return []\n",
    "    \n",
    "    # If there are fewer frames than sample_count, adjust sample_count\n",
    "    sample_count = min(sample_count, num_frames)\n",
    "    # Calculate indices to sample (roughly equally spaced)\n",
    "    indices = [int(round(i * (num_frames - 1) / (sample_count - 1))) \n",
    "               for i in range(sample_count)]\n",
    "    sampled = [frame_files[i] for i in indices]\n",
    "    return sampled"
   ]
  },
  {
   "cell_type": "code",
   "execution_count": 24,
   "id": "9f9bdc85-d57f-49db-949b-b4e4bd36ad97",
   "metadata": {
    "tags": []
   },
   "outputs": [],
   "source": [
    "# def add_directory_text(image, text):\n",
    "#     # Overlay the camera directory name on the top-left corner of the image\n",
    "#     font = cv2.FONT_HERSHEY_SIMPLEX\n",
    "#     cv2.putText(image, text, (10, 30), font, 1, (0, 255, 0), 2, cv2.LINE_AA)\n",
    "#     return image"
   ]
  },
  {
   "cell_type": "code",
   "execution_count": 29,
   "id": "4b2913e7-ec26-4d05-88e0-8b5cab2e5bca",
   "metadata": {
    "tags": []
   },
   "outputs": [],
   "source": [
    "def display_frames_side_by_side(frames, directory_name):\n",
    "    imgs = []\n",
    "    for frame_path in frames:\n",
    "        img = cv2.imread(frame_path)\n",
    "        if img is None:\n",
    "            print(f\"Error reading {frame_path}\")\n",
    "            continue\n",
    "        # Optionally resize the frame for consistency\n",
    "        img = cv2.resize(img, (320, 240))\n",
    "        # Convert image color space from BGR to RGB for matplotlib compatibility\n",
    "        img = cv2.cvtColor(img, cv2.COLOR_BGR2RGB)\n",
    "        # Add overlay text using OpenCV (if needed)\n",
    "        # img = add_directory_text(img, directory_name)\n",
    "        imgs.append(img)\n",
    "    \n",
    "    if not imgs:\n",
    "        return\n",
    "    # Stack images horizontally\n",
    "    combined = np.hstack(imgs)\n",
    "    \n",
    "    # Display the image inline using matplotlib\n",
    "    plt.figure(figsize=(15, 5))\n",
    "    plt.imshow(combined)\n",
    "    plt.title(f\"Frames from: {directory_name}\")\n",
    "    plt.axis('off')\n",
    "    fig = plt.gcf()\n",
    "    if pdf_pages is not None:\n",
    "        pdf_pages.savefig(fig)\n",
    "    plt.close(fig)\n",
    "    plt.show()\n",
    "    \n",
    "    # NEW: Save current figure to PDF if pdf_pages is available\n",
    "    "
   ]
  },
  {
   "cell_type": "code",
   "execution_count": 36,
   "id": "8dda3d38-eb64-4d2f-995a-5e905ad4b3e1",
   "metadata": {
    "tags": []
   },
   "outputs": [],
   "source": [
    "def process_camera_directory(camera_path):\n",
    " # 1. Check if camera folder is \"flir\" (case-insensitive). Delete if it is.\n",
    "    camera_name = os.path.basename(camera_path)\n",
    "    if camera_name.lower() == 'flir':\n",
    "        print(f\"Deleting {camera_path} because the camera folder is named 'flir'.\")\n",
    "        shutil.rmtree(camera_path)\n",
    "        return\n",
    "\n",
    "    # 2. Check if frames directory exists.\n",
    "    frames_dir = os.path.join(camera_path, \"frames\")\n",
    "    if not os.path.isdir(frames_dir):\n",
    "        print(f\"No frames directory found in {camera_path}. Deleting the camera folder.\")\n",
    "        shutil.rmtree(camera_path)\n",
    "        return\n",
    "\n",
    "    # 3. Get sorted PNG frames from the frames directory.\n",
    "    frame_files = get_sorted_frames(frames_dir)\n",
    "    if (not frame_files) or (len(frame_files)<2):\n",
    "        print(f\"No PNG frames found in {frames_dir}. Deleting the camera folder.\")\n",
    "        shutil.rmtree(camera_path)\n",
    "        return\n",
    "\n",
    "    # 4. Sample frames (default: 3 frames)\n",
    "    sampled_frames = sample_frames(frame_files, sample_count=3)\n",
    "    \n",
    "    # NEW: Plot rotated image based on subject id (parent folder of camera_path)\n",
    "    subject_id = os.path.basename(os.path.dirname(camera_path))\n",
    "    rotated_img_file = os.path.join('/home/caio.dasilva/datasets/brc2_rotate', subject_id + \"_set1_wb0_1_0.rs-image-5.png\")\n",
    "    if os.path.isfile(rotated_img_file):\n",
    "        img_rot = cv2.imread(rotated_img_file)\n",
    "        if img_rot is not None:\n",
    "            img_rot = cv2.cvtColor(img_rot, cv2.COLOR_BGR2RGB)\n",
    "            # NEW: Resize rotated image to match the size of other frames\n",
    "            img_rot = cv2.resize(img_rot, (320, 240))\n",
    "            plt.figure()\n",
    "            plt.imshow(img_rot)\n",
    "            plt.title(f\"Rotated image for {subject_id}\")\n",
    "            plt.axis('off')\n",
    "            fig = plt.gcf()\n",
    "            if pdf_pages is not None:\n",
    "                pdf_pages.savefig(fig)\n",
    "            plt.close(fig)\n",
    "            plt.show()\n",
    "            # NEW: Save current rotated image figure to PDF if pdf_pages is available\n",
    "            \n",
    "        else:\n",
    "            print(f\"Error reading rotated image {rotated_img_file}\")\n",
    "    else:\n",
    "        print(f\"No rotated image found for subject {subject_id} at {rotated_img_file}\")\n",
    "    \n",
    "    # 5. Display the sampled frames side by side with the camera name overlayed.\n",
    "    display_frames_side_by_side(sampled_frames, camera_path)"
   ]
  },
  {
   "cell_type": "code",
   "execution_count": 27,
   "id": "c9db13f1-7d1f-4f6b-ad01-600782336cd3",
   "metadata": {
    "tags": []
   },
   "outputs": [],
   "source": [
    "def main(root_dir):\n",
    "    if not os.path.isdir(root_dir):\n",
    "        print(f\"{root_dir} is not a directory.\")\n",
    "        return\n",
    "\n",
    "    # Iterate over subject directories\n",
    "    for subject in os.listdir(root_dir):\n",
    "        subject_path = os.path.join(root_dir, subject)\n",
    "        if not os.path.isdir(subject_path):\n",
    "            continue\n",
    "\n",
    "        # Iterate over camera directories inside each subject directory\n",
    "        for camera in os.listdir(subject_path):\n",
    "            camera_path = os.path.join(subject_path, camera)\n",
    "            if not os.path.isdir(camera_path):\n",
    "                continue\n",
    "            process_camera_directory(camera_path)"
   ]
  },
  {
   "cell_type": "markdown",
   "id": "c3c4071e-8755-46c0-86d2-bfe1dfec078b",
   "metadata": {
    "tags": []
   },
   "source": [
    "#### if __name__ == \"__main__\":\n",
    "    root_directory = input(\"Enter the root directory path: \").strip()\n",
    "    with PdfPages(\"output.pdf\") as temp_pdf:\n",
    "        pdf_pages = temp_pdf\n",
    "        main(root_directory)"
   ]
  }
 ],
 "metadata": {
  "kernelspec": {
   "display_name": "1 Kitware",
   "language": "python",
   "name": "kitware"
  },
  "language_info": {
   "codemirror_mode": {
    "name": "ipython",
    "version": 3
   },
   "file_extension": ".py",
   "mimetype": "text/x-python",
   "name": "python",
   "nbconvert_exporter": "python",
   "pygments_lexer": "ipython3",
   "version": "3.10.16"
  }
 },
 "nbformat": 4,
 "nbformat_minor": 5
}

{
 "cells": [
  {
   "cell_type": "markdown",
   "id": "43d2253d-776a-4db3-bc94-69cf32f919ef",
   "metadata": {},
   "source": [
    "# Clean dataset lables/images (GT)"
   ]
  },
  {
   "cell_type": "code",
   "execution_count": 36,
   "id": "1df5c303-6167-416b-8e6c-2b56d2571130",
   "metadata": {
    "tags": []
   },
   "outputs": [],
   "source": [
    "import os\n",
    "import matplotlib.pyplot as plt\n",
    "import matplotlib.image as mpimg\n",
    "import matplotlib.gridspec as gridspec\n",
    "from IPython.display import clear_output, display\n",
    "import pickle\n",
    "import json\n",
    "import ipywidgets as widgets\n",
    "import threading\n",
    "import time\n"
   ]
  },
  {
   "cell_type": "code",
   "execution_count": 33,
   "id": "d599f257-d088-4cae-9a75-f88372544a0d",
   "metadata": {
    "tags": []
   },
   "outputs": [],
   "source": [
    "def save_checkpoint(subject_id, camera, batch_index):\n",
    "    # Load existing checkpoint data\n",
    "    if os.path.exists('checkpoint_clean_gt.json'):\n",
    "        with open('checkpoint_clean_gt.json', 'r') as f:\n",
    "            checkpoint = json.load(f)\n",
    "    else:\n",
    "        checkpoint = {}\n",
    "\n",
    "    # Update the checkpoint with the new progress\n",
    "    checkpoint[f\"{subject_id}_{camera}\"] = {'subject_id': subject_id, 'camera': camera, 'batch_index': batch_index}\n",
    "\n",
    "    # Save the updated checkpoint\n",
    "    with open('checkpoint_clean_gt.json', 'w') as f:\n",
    "        json.dump(checkpoint, f, indent=2)"
   ]
  },
  {
   "cell_type": "code",
   "execution_count": 20,
   "id": "e3e22a5c-4aef-4d9c-b665-f1bee04dc695",
   "metadata": {
    "tags": []
   },
   "outputs": [],
   "source": [
    "def load_checkpoint():\n",
    "    if os.path.exists('checkpoint_clean_gt.json'):\n",
    "        with open('checkpoint_clean_gt.json', 'r') as f:\n",
    "            return json.load(f)\n",
    "    return {}"
   ]
  },
  {
   "cell_type": "code",
   "execution_count": 21,
   "id": "d7e42f60-011d-4a13-9940-c1637223b5ec",
   "metadata": {
    "tags": []
   },
   "outputs": [],
   "source": [
    "def save_marks_json(marks, fname='marks2302_2.json'):\n",
    "    with open(fname, 'w') as f:\n",
    "        json.dump(marks, f, indent=2)\n",
    "\n",
    "def load_marks_json(fname='marks2302_2.json'):\n",
    "    if os.path.exists(fname):\n",
    "        with open(fname, 'r') as f:\n",
    "            return json.load(f)\n",
    "    return {}"
   ]
  },
  {
   "cell_type": "code",
   "execution_count": 37,
   "id": "c3d5d676-0202-422e-b716-45d7ac8bf007",
   "metadata": {
    "tags": []
   },
   "outputs": [],
   "source": [
    "def display_images(control_img1, control_img2, subject_img, frame_images):\n",
    "    rows = (len(frame_images) // 10) + (1 if len(frame_images) % 10 != 0 else 0)\n",
    "    fig = plt.figure(figsize=(20, (rows + 1) * 2.5))\n",
    "    gs = gridspec.GridSpec(rows + 1, 15, figure=fig)  # 15 columns: 6 for big images, 9 for frames\n",
    "\n",
    "    # Show control image 1 in (0,0:2)\n",
    "    ax = fig.add_subplot(gs[0, 0:3])\n",
    "    ax.imshow(control_img1)\n",
    "    ax.axis('off')\n",
    "    ax.set_title(\"Control Image (set1)\", fontsize=14, weight='bold')\n",
    "\n",
    "    # Show control image 2 in (0,3:6)\n",
    "    ax = fig.add_subplot(gs[0, 3:6])\n",
    "    ax.imshow(control_img2)\n",
    "    ax.axis('off')\n",
    "    ax.set_title(\"Control Image (set2)\", fontsize=14, weight='bold')\n",
    "\n",
    "    # Show subject image in (0,6:9)\n",
    "    ax = fig.add_subplot(gs[0, 6:9])\n",
    "    ax.imshow(subject_img)\n",
    "    ax.axis('off')\n",
    "    ax.set_title(\"First Frame\", fontsize=14, weight='bold')\n",
    "\n",
    "    # Fill empty slots in row 0 (9:15)\n",
    "    for j in range(9, 15):\n",
    "        ax = fig.add_subplot(gs[0, j])\n",
    "        ax.axis('off')\n",
    "\n",
    "    # Show frame images (rows 1+), in cols 0:10\n",
    "    for i in range(1, rows + 1):\n",
    "        for j in range(10):\n",
    "            idx = (i - 1) * 10 + j\n",
    "            ax = fig.add_subplot(gs[i, j])\n",
    "            if idx < len(frame_images):\n",
    "                ax.imshow(frame_images[idx])\n",
    "                ax.axis('off')\n",
    "                ax.text(0.95, 0.05, str(idx), color='white', fontsize=10,\n",
    "                        transform=ax.transAxes, ha='right', va='bottom', weight='bold')\n",
    "            else:\n",
    "                ax.axis('off')\n",
    "    plt.tight_layout()\n",
    "    plt.show()"
   ]
  },
  {
   "cell_type": "code",
   "execution_count": 38,
   "id": "48bf0a91-015d-408f-b832-72e3d61e5b87",
   "metadata": {
    "tags": []
   },
   "outputs": [],
   "source": [
    "def process_frames(subject_id, camera_id, control_img1, control_img2, subject_img, camera_frame_dir, checkpoint, marks):\n",
    "\n",
    "    def get_sorted_frames():\n",
    "        files = [f for f in os.listdir(camera_frame_dir) if f.endswith('.png')]\n",
    "        files.sort()\n",
    "        return files\n",
    "\n",
    "    frame_files = get_sorted_frames()\n",
    "    batch_size = 500\n",
    "    total_batches = (len(frame_files) // batch_size) + (1 if len(frame_files) % batch_size != 0 else 0)\n",
    "    mark_key = f\"{subject_id}_{camera_id}\"\n",
    "    batch_idx = 0\n",
    "\n",
    "    while batch_idx < total_batches:\n",
    "        frame_files = get_sorted_frames()  # Refresh the list each batch\n",
    "        batch = frame_files[batch_idx * batch_size : (batch_idx + 1) * batch_size]\n",
    "        frame_images = [mpimg.imread(os.path.join(camera_frame_dir, frame)) for frame in batch]\n",
    "        display_images(control_img1, control_img2, subject_img, frame_images)\n",
    "        \n",
    "        prompt_text = (\n",
    "            f\"Mark for subject {subject_id}, camera {camera_id}, batch {batch_idx+1}/{total_batches}: \"\n",
    "            \"'c' for correct (keep all), 'k' to keep a range, or 'r' to remove a range, followed by two numbers (start and end of range): \"\n",
    "        )\n",
    "        user_input = input(prompt_text).strip().split()\n",
    "\n",
    "        if len(user_input) == 1 and user_input[0] == 'c':\n",
    "            print(f\"Marked subject {subject_id}, camera {camera_id} as correct for this batch. Showing next batch.\")\n",
    "            batch_idx += 1\n",
    "            continue\n",
    "\n",
    "        elif len(user_input) == 3 and user_input[0] in ['k', 'r']:\n",
    "            action, start, end = user_input[0], int(user_input[1]), int(user_input[2])\n",
    "            if start < 0 or end >= len(batch) or start > end:\n",
    "                print(\"Invalid range. Please try again.\")\n",
    "                continue\n",
    "\n",
    "            if action == 'r':\n",
    "                # Remove frames in the specified range (from current batch)\n",
    "                for idx in range(start, end + 1):\n",
    "                    try:\n",
    "                        os.remove(os.path.join(camera_frame_dir, batch[idx]))\n",
    "                    except Exception as e:\n",
    "                        print(f\"Error removing file {batch[idx]}: {e}\")\n",
    "                print(f\"Removed frames {start} to {end} for subject {subject_id}, camera {camera_id}.\")\n",
    "            elif action == 'k':\n",
    "                # Keep frames in the specified range and remove the rest (from current batch)\n",
    "                for idx, frame in enumerate(batch):\n",
    "                    if idx < start or idx > end:\n",
    "                        try:\n",
    "                            os.remove(os.path.join(camera_frame_dir, frame))\n",
    "                        except Exception as e:\n",
    "                            print(f\"Error removing file {frame}: {e}\")\n",
    "                print(f\"Kept frames {start} to {end} and removed the rest for subject {subject_id}, camera {camera_id}.\")\n",
    "                return  # Exit after keeping frames\n",
    "\n",
    "            # Refresh frame_files after removal\n",
    "            frame_files = get_sorted_frames()\n",
    "            total_batches = (len(frame_files) // batch_size) + (1 if len(frame_files) % batch_size != 0 else 0)\n",
    "\n",
    "        else:\n",
    "            print(\"Invalid input. Please enter 'c', or 'k'/'r' followed by two numbers (start and end of range).\")\n",
    "            continue\n",
    "\n",
    "        save_checkpoint(subject_id, camera_id, batch_idx)\n",
    "        batch_idx += 1"
   ]
  },
  {
   "cell_type": "code",
   "execution_count": 39,
   "id": "feff3164-efc0-4aa6-b1e9-e9432ee965b8",
   "metadata": {
    "tags": []
   },
   "outputs": [],
   "source": [
    "def process_subjects_by_camera(first_root, second_root, checkpoint, marks):\n",
    "    import matplotlib.image as mpimg\n",
    "    camera_ids = ['G2302']\n",
    "    subject_ids = [d for d in os.listdir(second_root) if os.path.isdir(os.path.join(second_root, d))]\n",
    "    print('Found subject IDs: ', subject_ids)\n",
    "    start_subject = checkpoint.get('subject_id') if checkpoint else None\n",
    "    start_camera = checkpoint.get('camera') if checkpoint else None\n",
    "    resume = False\n",
    "\n",
    "    for subject_id in subject_ids:\n",
    "        if start_subject and subject_id != start_subject and not resume:\n",
    "            continue\n",
    "        resume = True\n",
    "        # Try to find control images in first_root (set1 and set2)\n",
    "        control_img_path1 = os.path.join(first_root, f\"{subject_id}_set1_wb0_1_0.rs-image-5.png\")\n",
    "        control_img_path2 = os.path.join(first_root, f\"{subject_id}_set2_wb0_1_0.rs-image-5.png\")\n",
    "        if not (os.path.exists(control_img_path1) and os.path.exists(control_img_path2)):\n",
    "            print(f\"Control images for {subject_id} not found in {first_root}. Skipping...\")\n",
    "            continue\n",
    "        control_img1 = mpimg.imread(control_img_path1)\n",
    "        control_img2 = mpimg.imread(control_img_path2)\n",
    "        subject_frame_dir = os.path.join(second_root, subject_id)\n",
    "\n",
    "        for camera_id in camera_ids:\n",
    "            mark_key = f\"{subject_id}_{camera_id}\"\n",
    "            # Check if this subject/camera is in the checkpoint\n",
    "            if checkpoint and mark_key in checkpoint:\n",
    "                print(f\"Checkpoint found for {mark_key}, skipping...\")\n",
    "                continue\n",
    "            camera_frame_dir = os.path.join(subject_frame_dir, camera_id, 'frames')\n",
    "            if not os.path.exists(camera_frame_dir):\n",
    "                print(f\"Frames for subject {subject_id} camera {camera_id} not found. Skipping...\")\n",
    "                continue\n",
    "            frame_files = [f for f in os.listdir(camera_frame_dir) if f.endswith('.png')]\n",
    "            if not frame_files:\n",
    "                print(f\"No PNG frames for subject {subject_id} camera {camera_id}. Skipping...\")\n",
    "                continue\n",
    "            # Only annotate if not already marked\n",
    "            if mark_key in marks:\n",
    "                print(f\"Already marked {mark_key}: {marks[mark_key]}. Skipping...\")\n",
    "                continue\n",
    "            first_frame_path = os.path.join(camera_frame_dir, frame_files[0])\n",
    "            subject_img = mpimg.imread(first_frame_path)\n",
    "            process_frames(subject_id, camera_id, control_img1, control_img2, subject_img, camera_frame_dir, checkpoint, marks)"
   ]
  },
  {
   "cell_type": "code",
   "execution_count": null,
   "id": "6fab9454-0d1d-44aa-99bf-d624d65302d4",
   "metadata": {
    "tags": []
   },
   "outputs": [],
   "source": [
    "first_root = '/home/caio.dasilva/datasets/brc2_rotate/'  # Directory with the control images\n",
    "second_root = '/home/caio.dasilva/datasets/extracted_brc2/'  # Directory with the frames organized by subject/camera/frames\n",
    "\n",
    "checkpoint = load_checkpoint()\n",
    "marks = load_marks_json()\n",
    "\n",
    "process_subjects_by_camera(first_root, second_root, checkpoint, marks)\n",
    "print('Done')"
   ]
  },
  {
   "cell_type": "code",
   "execution_count": null,
   "id": "39b71b07-bc48-4fde-b1b5-dcaa664b4a69",
   "metadata": {},
   "outputs": [],
   "source": []
  }
 ],
 "metadata": {
  "kernelspec": {
   "display_name": "1 Kitware",
   "language": "python",
   "name": "kitware"
  },
  "language_info": {
   "codemirror_mode": {
    "name": "ipython",
    "version": 3
   },
   "file_extension": ".py",
   "mimetype": "text/x-python",
   "name": "python",
   "nbconvert_exporter": "python",
   "pygments_lexer": "ipython3",
   "version": "3.10.16"
  }
 },
 "nbformat": 4,
 "nbformat_minor": 5
}

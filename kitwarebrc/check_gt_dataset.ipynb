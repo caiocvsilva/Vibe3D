{
 "cells": [
  {
   "cell_type": "markdown",
   "id": "43d2253d-776a-4db3-bc94-69cf32f919ef",
   "metadata": {},
   "source": [
    "# Check if the dataset lables are correct (GT)"
   ]
  },
  {
   "cell_type": "code",
   "execution_count": null,
   "id": "1df5c303-6167-416b-8e6c-2b56d2571130",
   "metadata": {
    "tags": []
   },
   "outputs": [],
   "source": [
    "import os\n",
    "import matplotlib.pyplot as plt\n",
    "import matplotlib.image as mpimg\n",
    "from IPython.display import clear_output, display\n",
    "import pickle\n",
    "import json\n",
    "import ipywidgets as widgets\n",
    "import threading\n",
    "import time\n"
   ]
  },
  {
   "cell_type": "code",
   "execution_count": null,
   "id": "d599f257-d088-4cae-9a75-f88372544a0d",
   "metadata": {},
   "outputs": [],
   "source": [
    "def save_checkpoint(subject_id, camera, batch_index):\n",
    "    checkpoint = {'subject_id': subject_id, 'camera': camera, 'batch_index': batch_index}\n",
    "    with open('checkpoint_gt.pkl', 'wb') as f:\n",
    "        pickle.dump(checkpoint, f)"
   ]
  },
  {
   "cell_type": "code",
   "execution_count": null,
   "id": "e3e22a5c-4aef-4d9c-b665-f1bee04dc695",
   "metadata": {},
   "outputs": [],
   "source": [
    "def load_checkpoint():\n",
    "    if os.path.exists('checkpoint_gt.pkl'):\n",
    "        with open('checkpoint_gt.pkl', 'rb') as f:\n",
    "            return pickle.load(f)\n",
    "    return {}"
   ]
  },
  {
   "cell_type": "code",
   "execution_count": null,
   "id": "d7e42f60-011d-4a13-9940-c1637223b5ec",
   "metadata": {
    "tags": []
   },
   "outputs": [],
   "source": [
    "def save_marks_json(marks, fname='marks2302.json'):\n",
    "    with open(fname, 'w') as f:\n",
    "        json.dump(marks, f, indent=2)\n",
    "\n",
    "def load_marks_json(fname='marks2302.json'):\n",
    "    if os.path.exists(fname):\n",
    "        with open(fname, 'r') as f:\n",
    "            return json.load(f)\n",
    "    return {}"
   ]
  },
  {
   "cell_type": "code",
   "execution_count": null,
   "id": "c3d5d676-0202-422e-b716-45d7ac8bf007",
   "metadata": {
    "tags": []
   },
   "outputs": [],
   "source": [
    "def display_images(control_img1, control_img2, subject_img, frame_images):\n",
    "    import matplotlib.pyplot as plt\n",
    "    import matplotlib.gridspec as gridspec\n",
    "\n",
    "    rows = (len(frame_images) // 10) + (1 if len(frame_images) % 10 != 0 else 0)\n",
    "    fig = plt.figure(figsize=(20, (rows + 1) * 2.5))\n",
    "    gs = gridspec.GridSpec(rows + 1, 15, figure=fig)  # 15 columns: 6 for big images, 9 for frames\n",
    "\n",
    "    # Show control image 1 in (0,0:2)\n",
    "    ax = fig.add_subplot(gs[0, 0:3])\n",
    "    ax.imshow(control_img1)\n",
    "    ax.axis('off')\n",
    "    ax.set_title(\"Control Image (set1)\", fontsize=14, weight='bold')\n",
    "\n",
    "    # Show control image 2 in (0,3:6)\n",
    "    ax = fig.add_subplot(gs[0, 3:6])\n",
    "    ax.imshow(control_img2)\n",
    "    ax.axis('off')\n",
    "    ax.set_title(\"Control Image (set2)\", fontsize=14, weight='bold')\n",
    "\n",
    "    # Show subject image in (0,6:9)\n",
    "    ax = fig.add_subplot(gs[0, 6:9])\n",
    "    ax.imshow(subject_img)\n",
    "    ax.axis('off')\n",
    "    ax.set_title(\"First Frame\", fontsize=14, weight='bold')\n",
    "\n",
    "    # Fill empty slots in row 0 (9:15)\n",
    "    for j in range(9, 15):\n",
    "        ax = fig.add_subplot(gs[0, j])\n",
    "        ax.axis('off')\n",
    "\n",
    "    # Show frame images (rows 1+), in cols 0:10\n",
    "    for i in range(1, rows + 1):\n",
    "        for j in range(10):\n",
    "            idx = (i - 1) * 10 + j\n",
    "            ax = fig.add_subplot(gs[i, j])\n",
    "            if idx < len(frame_images):\n",
    "                ax.imshow(frame_images[idx])\n",
    "                ax.axis('off')\n",
    "                ax.text(0.95, 0.05, str(idx + 1), color='white', fontsize=10,\n",
    "                        transform=ax.transAxes, ha='right', va='bottom', weight='bold')\n",
    "            else:\n",
    "                ax.axis('off')\n",
    "    plt.tight_layout()\n",
    "    plt.show()"
   ]
  },
  {
   "cell_type": "code",
   "execution_count": null,
   "id": "48bf0a91-015d-408f-b832-72e3d61e5b87",
   "metadata": {
    "tags": []
   },
   "outputs": [],
   "source": [
    "def process_frames(subject_id, camera_id, control_img1, control_img2, subject_img, camera_frame_dir, checkpoint, marks):\n",
    "    import os\n",
    "    import matplotlib.image as mpimg\n",
    "    from IPython.display import clear_output\n",
    "\n",
    "    frame_files = [f for f in os.listdir(camera_frame_dir) if f.endswith('.png')]\n",
    "    frame_files.sort()\n",
    "    frame_files = [frame_files[i] for i in range(len(frame_files)) if (i + 1) % 3 == 0]\n",
    "    batch_size = 500\n",
    "    total_batches = (len(frame_files) // batch_size) + (1 if len(frame_files) % batch_size != 0 else 0)\n",
    "    mark_key = f\"{subject_id}_{camera_id}\"\n",
    "    batch_idx = 0\n",
    "    mark_value = None\n",
    "\n",
    "    while batch_idx < total_batches:\n",
    "        batch = frame_files[batch_idx * batch_size : (batch_idx + 1) * batch_size]\n",
    "        frame_images = [mpimg.imread(os.path.join(camera_frame_dir, frame)) for frame in batch]\n",
    "        # clear_output(wait=True)\n",
    "        display_images(control_img1, control_img2, subject_img, frame_images)\n",
    "        \n",
    "        prompt_text = (\n",
    "            f\"Mark for subject {subject_id}, camera {camera_id}, batch {batch_idx+1}/{total_batches}: \"\n",
    "            \"[Enter]=correct, 'm'=incorrect, '2'=two subjects in one, or any key for next batch: \"\n",
    "            if (batch_idx < total_batches - 1) else\n",
    "            f\"Mark for subject {subject_id}, camera {camera_id}, batch {batch_idx+1}/{total_batches}: \"\n",
    "            \"[Enter]=correct, 'm'=incorrect, '2'=two subjects in one: \"\n",
    "        )\n",
    "        user_input = input(prompt_text)\n",
    "\n",
    "        if user_input == \"m\":\n",
    "            mark_value = \"incorrect\"\n",
    "            print(f\"Marked {subject_id}, {camera_id} as INCORRECT.\")\n",
    "            marks[mark_key] = mark_value\n",
    "            save_marks_json(marks)\n",
    "            return  # Immediately jump to next subject/camera\n",
    "\n",
    "        elif user_input == \"2\":\n",
    "            mark_value = \"two_subjects\"\n",
    "            print(f\"Marked {subject_id}, {camera_id} as TWO SUBJECTS.\")\n",
    "            marks[mark_key] = mark_value\n",
    "            save_marks_json(marks)\n",
    "            return  # Immediately jump to next subject/camera\n",
    "\n",
    "        elif user_input.strip() == \"\":\n",
    "            if batch_idx == total_batches - 1:\n",
    "                mark_value = mark_value or \"correct\"\n",
    "                print(f\"Marked {subject_id}, {camera_id} as {mark_value.upper()}.\")\n",
    "                marks[mark_key] = mark_value\n",
    "                save_marks_json(marks)\n",
    "                return\n",
    "            batch_idx += 1\n",
    "\n",
    "        else:\n",
    "            # For other input, just move to the next batch\n",
    "            batch_idx += 1"
   ]
  },
  {
   "cell_type": "code",
   "execution_count": null,
   "id": "feff3164-efc0-4aa6-b1e9-e9432ee965b8",
   "metadata": {
    "tags": []
   },
   "outputs": [],
   "source": [
    "def process_subjects_by_camera(first_root, second_root, checkpoint, marks):\n",
    "    import matplotlib.image as mpimg\n",
    "    camera_ids = ['G2302']\n",
    "    subject_ids = [d for d in os.listdir(second_root) if os.path.isdir(os.path.join(second_root, d))]\n",
    "    print('Found subject IDs: ', subject_ids)\n",
    "    start_subject = checkpoint.get('subject_id') if checkpoint else None\n",
    "    resume = False\n",
    "    for subject_id in subject_ids:\n",
    "        if start_subject and subject_id != start_subject and not resume:\n",
    "            continue\n",
    "        resume = True\n",
    "        # Try to find control images in first_root (set1 and set2)\n",
    "        control_img_path1 = os.path.join(first_root, f\"{subject_id}_set1_wb0_1_0.rs-image-5.png\")\n",
    "        control_img_path2 = os.path.join(first_root, f\"{subject_id}_set2_wb0_1_0.rs-image-5.png\")\n",
    "        if not (os.path.exists(control_img_path1) and os.path.exists(control_img_path2)):\n",
    "            print(f\"Control images for {subject_id} not found in {first_root}. Skipping...\")\n",
    "            continue\n",
    "        control_img1 = mpimg.imread(control_img_path1)\n",
    "        control_img2 = mpimg.imread(control_img_path2)\n",
    "        subject_frame_dir = os.path.join(second_root, subject_id)\n",
    "        for camera_id in camera_ids:\n",
    "            camera_frame_dir = os.path.join(subject_frame_dir, camera_id, 'frames')\n",
    "            if not os.path.exists(camera_frame_dir):\n",
    "                print(f\"Frames for subject {subject_id} camera {camera_id} not found. Skipping...\")\n",
    "                continue\n",
    "            frame_files = [f for f in os.listdir(camera_frame_dir) if f.endswith('.png')]\n",
    "            if not frame_files:\n",
    "                print(f\"No PNG frames for subject {subject_id} camera {camera_id}. Skipping...\")\n",
    "                continue\n",
    "            # Only annotate if not already marked\n",
    "            mark_key = f\"{subject_id}_{camera_id}\"\n",
    "            if mark_key in marks:\n",
    "                print(f\"Already marked {mark_key}: {marks[mark_key]}. Skipping...\")\n",
    "                continue\n",
    "            first_frame_path = os.path.join(camera_frame_dir, frame_files[0])\n",
    "            subject_img = mpimg.imread(first_frame_path)\n",
    "            # Pass both control images\n",
    "            process_frames(subject_id, camera_id, control_img1, control_img2, subject_img, camera_frame_dir, checkpoint, marks)"
   ]
  },
  {
   "cell_type": "code",
   "execution_count": null,
   "id": "dc447000-8b0c-47cc-86e6-d3bde6a8c709",
   "metadata": {
    "tags": []
   },
   "outputs": [],
   "source": [
    "## first_root = '/home/caio.dasilva/datasets/brc2_rotate/'  # Directory with the control images\n",
    "second_root = '/home/caio.dasilva/datasets/extracted_brc2/'  # Directory with the frames organized by subject/camera/frames\n",
    "\n",
    "checkpoint = load_checkpoint()\n",
    "marks = load_marks_json()\n",
    "\n",
    "process_subjects_by_camera(first_root, second_root, checkpoint, marks)\n",
    "print('Done')"
   ]
  },
  {
   "cell_type": "code",
   "execution_count": null,
   "id": "39b71b07-bc48-4fde-b1b5-dcaa664b4a69",
   "metadata": {},
   "outputs": [],
   "source": []
  }
 ],
 "metadata": {
  "kernelspec": {
   "display_name": "1 Kitware",
   "language": "python",
   "name": "kitware"
  },
  "language_info": {
   "codemirror_mode": {
    "name": "ipython",
    "version": 3
   },
   "file_extension": ".py",
   "mimetype": "text/x-python",
   "name": "python",
   "nbconvert_exporter": "python",
   "pygments_lexer": "ipython3",
   "version": "3.10.16"
  }
 },
 "nbformat": 4,
 "nbformat_minor": 5
}
